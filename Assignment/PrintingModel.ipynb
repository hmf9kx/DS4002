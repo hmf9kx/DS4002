{
 "cells": [
  {
   "cell_type": "markdown",
   "id": "55a8ed28-9efe-4074-9046-ae11c60800c6",
   "metadata": {},
   "source": [
    "## T-Shirt Printing Price Assignment"
   ]
  },
  {
   "cell_type": "markdown",
   "id": "21ca8f38-93da-4f55-afa7-ceba294cf94d",
   "metadata": {},
   "source": [
    "This notebook will walk you through the assignment. The assignment will be completed entirely in this notebook. The contents of this notebook are what your company is currently using to calculate pricing for their printing. There are several sections where they will ask you to share your thoughts or to write your own code."
   ]
  },
  {
   "cell_type": "markdown",
   "id": "dca422f1-978e-47d3-9b33-846642b3fbc8",
   "metadata": {},
   "source": [
    "This is the market price (in $) to print 1 pixel of magenta, yellow, cyan, or black. This will be constants for  this assignment, however the ink market is everchanging. So, any code you write should still work if these values were to update."
   ]
  },
  {
   "cell_type": "code",
   "execution_count": 1,
   "id": "e2319200-e2bf-4e94-ba33-f2b586da280f",
   "metadata": {},
   "outputs": [],
   "source": [
    "PRICE_MAGENTA = 0.05 #5 cents\n",
    "PRICE_YELLOW = 0.04 #4 cents\n",
    "PRICE_CYAN = 0.03 #3 cents\n",
    "PRICE_BLACK = 0.01 #1 cent"
   ]
  },
  {
   "cell_type": "markdown",
   "id": "602ef436-1dab-4aca-88c8-b35a4028d8f4",
   "metadata": {},
   "source": [
    "The company is using the following logic to calculate CMY (cyan, magenta, yellow) pricing from RGB (red, blue, green) values:"
   ]
  },
  {
   "cell_type": "code",
   "execution_count": 2,
   "id": "9e4dbe48-658f-4f61-993b-f0c7808ad419",
   "metadata": {},
   "outputs": [],
   "source": [
    "#Cyan corresponds with green and blue\n",
    "#Magenta corresponds with red and blue\n",
    "#Yellow corresponds with green and red"
   ]
  },
  {
   "cell_type": "markdown",
   "id": "94d9bdd7-289f-41eb-8edd-4c29da6fdeb2",
   "metadata": {},
   "source": [
    "This is the current conversion function used by the company. It takes in a RGB triple and returns the proportion of cyan, magenta, and yellow. Note the function is predicated on the logic above"
   ]
  },
  {
   "cell_type": "code",
   "execution_count": 3,
   "id": "6dbc3517-ba04-49f1-9195-40eeaaeb74af",
   "metadata": {},
   "outputs": [],
   "source": [
    "def get_prop_CMY(rgb_triple):\n",
    "    \n",
    "    red = rgb_triple[0]\n",
    "    blue = rgb_triple[1]\n",
    "    green = rgb_triple[2]\n",
    "    \n",
    "    prop_cyan = (green + blue) / (255*2)\n",
    "    prop_magenta = (red + blue) / (255*2)\n",
    "    prop_yellow = (green + red) / (255*2)\n",
    "    \n",
    "    return [prop_cyan, prop_magenta, prop_yellow]"
   ]
  },
  {
   "cell_type": "markdown",
   "id": "edfcba4f-0544-48ae-86dd-deea4271bae8",
   "metadata": {},
   "source": [
    "Here is an example function call:"
   ]
  },
  {
   "cell_type": "code",
   "execution_count": 4,
   "id": "24ede46c-4089-4943-b5a6-84d3858ea3f5",
   "metadata": {},
   "outputs": [],
   "source": [
    "example_color = [50, 100, 150]"
   ]
  },
  {
   "cell_type": "code",
   "execution_count": 5,
   "id": "29fde5f5-067c-4163-8368-aff97fe87f37",
   "metadata": {},
   "outputs": [
    {
     "data": {
      "text/plain": [
       "[0.49019607843137253, 0.29411764705882354, 0.39215686274509803]"
      ]
     },
     "execution_count": 5,
     "metadata": {},
     "output_type": "execute_result"
    }
   ],
   "source": [
    "get_prop_CMY(example_color)"
   ]
  },
  {
   "cell_type": "markdown",
   "id": "2522017d-bbe6-4dc1-9ec0-b78d145dd6a7",
   "metadata": {},
   "source": [
    "And here is the existing function to calculate the printing price of a colored pixel, using the RGB -> CMY conversion and the given pricing"
   ]
  },
  {
   "cell_type": "code",
   "execution_count": 6,
   "id": "f54ad7cb-6a83-4a8f-adbb-b9121a2cee4e",
   "metadata": {},
   "outputs": [],
   "source": [
    "def get_price(rgb_triple):\n",
    "    \n",
    "    CMY_triple = get_prop_CMY(rgb_triple)\n",
    "    \n",
    "    prop_cyan = CMY_triple[0]\n",
    "    prop_magenta = CMY_triple[1]\n",
    "    prop_yellow = CMY_triple[2]\n",
    "    \n",
    "    cyan_price = prop_cyan * PRICE_CYAN\n",
    "    magenta_price = prop_magenta * PRICE_MAGENTA\n",
    "    yellow_price = prop_yellow * PRICE_YELLOW\n",
    "    \n",
    "    return cyan_price + magenta_price + yellow_price"
   ]
  },
  {
   "cell_type": "markdown",
   "id": "3181fd9f-3d5e-4f8c-a961-6d05efc397ad",
   "metadata": {},
   "source": [
    "And here is an example function call"
   ]
  },
  {
   "cell_type": "code",
   "execution_count": 7,
   "id": "9d0f8fb1-4886-4645-9e9a-ab86e1d6518d",
   "metadata": {},
   "outputs": [
    {
     "data": {
      "text/plain": [
       "0.045098039215686274"
      ]
     },
     "execution_count": 7,
     "metadata": {},
     "output_type": "execute_result"
    }
   ],
   "source": [
    "get_price(example_color)"
   ]
  },
  {
   "cell_type": "markdown",
   "id": "336e47aa-09d8-453e-af5e-3fa3f541fc74",
   "metadata": {},
   "source": [
    "Here is a helper function to import a png as a numpy array and an example input. Note the output is an array of pixels with each pixel assigned a corresponding RGB value. Be sure to download the test image from the resources and put it in the same directory as this file or the example will not work"
   ]
  },
  {
   "cell_type": "code",
   "execution_count": 8,
   "id": "f674475d-8546-4af2-a5af-ac9d0f67780a",
   "metadata": {},
   "outputs": [],
   "source": [
    "from matplotlib import pyplot as plt\n",
    "import os\n",
    "\n",
    "def array_from_png(filename):\n",
    "    path = os.getcwd() + f'\\\\{filename}'\n",
    "    image = plt.imread(path)\n",
    "    return image"
   ]
  },
  {
   "cell_type": "code",
   "execution_count": 9,
   "id": "1c697b04-a446-4707-a359-8fb4591c0483",
   "metadata": {},
   "outputs": [],
   "source": [
    "image = array_from_png('test_image.png')"
   ]
  },
  {
   "cell_type": "code",
   "execution_count": 10,
   "id": "c5418488-ecd8-48c5-8a86-e01b73424a65",
   "metadata": {},
   "outputs": [
    {
     "data": {
      "text/plain": [
       "numpy.ndarray"
      ]
     },
     "execution_count": 10,
     "metadata": {},
     "output_type": "execute_result"
    }
   ],
   "source": [
    "type(image)"
   ]
  },
  {
   "cell_type": "code",
   "execution_count": 11,
   "id": "03df67b1-dbe7-452f-93b6-716e84401647",
   "metadata": {},
   "outputs": [
    {
     "data": {
      "text/plain": [
       "(360, 640, 3)"
      ]
     },
     "execution_count": 11,
     "metadata": {},
     "output_type": "execute_result"
    }
   ],
   "source": [
    "image.shape"
   ]
  },
  {
   "cell_type": "markdown",
   "id": "0114689d-d492-4dba-a556-352ed60d20c8",
   "metadata": {},
   "source": [
    "### Task 1: Pricing Function"
   ]
  },
  {
   "cell_type": "markdown",
   "id": "545ef1fb-f556-4c0b-a3eb-a8a1b11ec148",
   "metadata": {},
   "source": [
    "Write a function in the space below to calculate the total printing price for an image. Then, use it to calculate the printing cost for the test image. Write a short description in plain English (as much as possible) explaining how your function works. (BONUS: How fast is your function? What if we feed it larger and larger images? Are there any improvements that could be made to speed up the function?)"
   ]
  },
  {
   "cell_type": "code",
   "execution_count": 12,
   "id": "1df19b79-4bcc-437e-9ee8-f3109b897ec8",
   "metadata": {},
   "outputs": [],
   "source": [
    "def get_printing_price(image):\n",
    "    #TODO: YOUR CODE HERE!\n",
    "    #Feel free to use any pre-existing functions, or to write your own helper funcitons\n",
    "    #If you get stuck, check out the numpy documentation linked in the resources\n",
    "    return price"
   ]
  },
  {
   "cell_type": "markdown",
   "id": "c19a6457-54de-4fba-bb16-446594bd02c3",
   "metadata": {},
   "source": [
    "TODO: Explain your function as if you were explaining it to a manager with a non-technical background:\n",
    "\n",
    "\n",
    "\n",
    "\n"
   ]
  },
  {
   "cell_type": "markdown",
   "id": "cf9ff803-4b35-484d-9e72-37437bfb6dc5",
   "metadata": {},
   "source": [
    "TODO (Bonus): Discuss the time complexity of your function:\n",
    "\n",
    "\n",
    "\n",
    "\n"
   ]
  },
  {
   "cell_type": "markdown",
   "id": "5d38d46f-e85b-42c3-96ef-cc57a4e126d8",
   "metadata": {},
   "source": [
    "### Task 2: Improvement Research"
   ]
  },
  {
   "cell_type": "markdown",
   "id": "193299b3-f8f8-48b8-8fbc-e50980be277d",
   "metadata": {},
   "source": [
    "Now the company can use your function to calculate the printing price of any image! However, there are still improvements to be made. In particular, your manager is not satisfied with the two existing helper functions used to calculate price (get_prop_CMY and get_price). In particular, she mentions the following:\n",
    "1. The conversion from RGB to CMY is done simply by averaging RGB values (for example, cyan is the average of        green and blue). Is there a better way to perform the conversion? Is CMY the best color model to use?\n",
    "2. Black ink is significantly cheaper than colored ink (see the given pricing for reference). Is there a way to update our pricing function to take this into account?\n",
    "\n",
    "First, do some research (see supplemental materials but also use additional resources). Then, write answers to your manager's questions (e.g. is it possible to account for black ink). Additionally, are there any improvements that can be made that your manager overlooked? Explain these as well."
   ]
  },
  {
   "cell_type": "markdown",
   "id": "9acbca2b-3c3a-4b79-9196-c5629e8a05cb",
   "metadata": {},
   "source": [
    "TODO: Answer the two questions asked by your manager (again, in plain English as much as possible): \n",
    "\n",
    "\n"
   ]
  },
  {
   "cell_type": "markdown",
   "id": "6037ccdb-94b7-4086-933a-438c1ae6c628",
   "metadata": {},
   "source": [
    "TODO (Bonus): Describe any additional improvements that can be made and convince your manager they are useful:\n",
    "\n",
    "\n"
   ]
  },
  {
   "cell_type": "markdown",
   "id": "1a0060e6-2c91-4b51-bbbf-4632054f2044",
   "metadata": {},
   "source": [
    "### Task 3: Improvement Implementation"
   ]
  },
  {
   "cell_type": "markdown",
   "id": "bb155aa2-cc27-4913-9e23-799ef6e969d7",
   "metadata": {},
   "source": [
    "Implement the improvements you described in part 2! Specifically, write new helper functions to complete the conversion and calculate pricing"
   ]
  },
  {
   "cell_type": "code",
   "execution_count": 13,
   "id": "6d120063-81f8-4dbe-8dd9-8a94b6026c52",
   "metadata": {},
   "outputs": [],
   "source": [
    "def my_conversion_function():\n",
    "    #TODO: YOUR CODE HERE!\n",
    "    return"
   ]
  },
  {
   "cell_type": "code",
   "execution_count": 14,
   "id": "b25eb451-1d39-4424-b93f-db738c48582f",
   "metadata": {},
   "outputs": [],
   "source": [
    "def my_pricing_function():\n",
    "    #TODO: YOUR CODE HERE!\n",
    "    return"
   ]
  },
  {
   "cell_type": "markdown",
   "id": "e275cee9-e56a-43e9-b6e9-af337cda3e46",
   "metadata": {},
   "source": [
    "TODO: Either comment your functions appropriately to explain the changes made or write a quick summary here:\n",
    "\n",
    "\n"
   ]
  },
  {
   "cell_type": "markdown",
   "id": "c3ef22bb-b4a6-4c8b-b850-696b75b48cdb",
   "metadata": {},
   "source": [
    "### Task 4: Function Comparison"
   ]
  },
  {
   "cell_type": "markdown",
   "id": "a406cc13-2410-40f9-81d5-5a269a6de797",
   "metadata": {},
   "source": [
    "Using your function from task 1, calculate the new pricing for the test image. Is it what you expected? Do you think it is a better calculation than before? Why? (Remember, cheaper is not necessarily better. We are striving for accuracy)"
   ]
  },
  {
   "cell_type": "markdown",
   "id": "a8a896a0-81a0-4b4b-9121-f61b9da60e94",
   "metadata": {},
   "source": [
    "TODO: Answer the questions above"
   ]
  },
  {
   "cell_type": "markdown",
   "id": "f0395aff-a677-4d11-8985-cd9acae9ba68",
   "metadata": {},
   "source": [
    "TODO (Bonus): Test your new pricing calculation on other pictures. Why did you select the pictures you did? What did you find?: "
   ]
  },
  {
   "cell_type": "markdown",
   "id": "40fa7ed6-c701-4df4-b615-3a7b646c38eb",
   "metadata": {},
   "source": [
    "### Task 5: Email Summary"
   ]
  },
  {
   "cell_type": "markdown",
   "id": "85a1d418-eb49-4da9-b21c-cc181c3359c3",
   "metadata": {},
   "source": [
    "Summarize your findings in an email to your manager. Be sure to mention the work you completed in each of the 4 prior tasks. Ultimately, argue that your new pricing calculation is an improvement. Be sure to mention any caveats to your process and any next steps you might take."
   ]
  },
  {
   "cell_type": "markdown",
   "id": "3e5998c7-35f7-4fcc-910a-4c09a990170f",
   "metadata": {},
   "source": [
    "TODO: Write your email here:"
   ]
  },
  {
   "cell_type": "markdown",
   "id": "a804ce0d-390e-4873-a9ec-6bcb96c9fb50",
   "metadata": {},
   "source": [
    "### Task 6: Formatting and Submission"
   ]
  },
  {
   "cell_type": "markdown",
   "id": "9a6671ee-4d4a-4057-b6e8-3d6f4bda9903",
   "metadata": {},
   "source": [
    "Ensure the formatting in this notebook remains professional. Clean up your code, take advantage of markdown formatting, add comments when necessary, etc. When you are happy with your work, rename this file to \"[Lastname]_[Firstname]_CS_TSHIRT.ipynb\" and submit it to the Collab assignments page. If you tested your pricing function on additional images, please upload those to Collab too. Well done!"
   ]
  }
 ],
 "metadata": {
  "kernelspec": {
   "display_name": "Python 3 (ipykernel)",
   "language": "python",
   "name": "python3"
  },
  "language_info": {
   "codemirror_mode": {
    "name": "ipython",
    "version": 3
   },
   "file_extension": ".py",
   "mimetype": "text/x-python",
   "name": "python",
   "nbconvert_exporter": "python",
   "pygments_lexer": "ipython3",
   "version": "3.9.12"
  }
 },
 "nbformat": 4,
 "nbformat_minor": 5
}
